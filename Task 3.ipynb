{
 "cells": [
  {
   "cell_type": "markdown",
   "id": "99400543",
   "metadata": {},
   "source": [
    "### Task 3\n",
    "In this task, I was required to make a new data frame that show us the destination between any given city to Tel Aviv.\n",
    "To get this information I will use Google's services, geocode & distancematrix."
   ]
  },
  {
   "cell_type": "code",
   "execution_count": 166,
   "id": "2cfe68aa",
   "metadata": {},
   "outputs": [],
   "source": [
    "import requests\n",
    "import json\n",
    "import urllib\n",
    "import pandas as pd"
   ]
  },
  {
   "cell_type": "markdown",
   "id": "d3d80b52",
   "metadata": {},
   "source": [
    "let's check how geocode & distancematrix works and what the data they provide us. \n",
    "first<b> geocode: </b>"
   ]
  },
  {
   "cell_type": "code",
   "execution_count": 167,
   "id": "a59c49b4",
   "metadata": {},
   "outputs": [],
   "source": [
    "address = \"torunto, canda\"\n",
    "key = open(\"GOOGLE API KEY.txt\", \"r\")\n",
    "key = key.read()"
   ]
  },
  {
   "cell_type": "code",
   "execution_count": 168,
   "id": "b4ef4cbb",
   "metadata": {},
   "outputs": [],
   "source": [
    "url = \"https://maps.googleapis.com/maps/api/geocode/json?address=%s&key=%s\" % (address,key)"
   ]
  },
  {
   "cell_type": "code",
   "execution_count": 169,
   "id": "9a42d95a",
   "metadata": {},
   "outputs": [
    {
     "name": "stdout",
     "output_type": "stream",
     "text": [
      "200\n",
      "<class 'dict'>\n"
     ]
    }
   ],
   "source": [
    "response = requests.get(url)\n",
    "print(response.status_code)\n",
    "response = requests.get(url).json()\n",
    "print(type(response))"
   ]
  },
  {
   "cell_type": "code",
   "execution_count": 170,
   "id": "5a5574fb",
   "metadata": {
    "scrolled": true
   },
   "outputs": [
    {
     "name": "stdout",
     "output_type": "stream",
     "text": [
      "{'results': [{'address_components': [{'long_name': 'Toronto', 'short_name': 'Toronto', 'types': ['locality', 'political']}, {'long_name': 'City Of Toronto', 'short_name': 'City Of Toronto', 'types': ['administrative_area_level_3', 'political']}, {'long_name': 'Toronto', 'short_name': 'Toronto', 'types': ['administrative_area_level_2', 'political']}, {'long_name': 'Ontario', 'short_name': 'ON', 'types': ['administrative_area_level_1', 'political']}, {'long_name': 'Canada', 'short_name': 'CA', 'types': ['country', 'political']}], 'formatted_address': 'Toronto, ON, Canada', 'geometry': {'bounds': {'northeast': {'lat': 43.8554579, 'lng': -79.1168971}, 'southwest': {'lat': 43.5810245, 'lng': -79.639219}}, 'location': {'lat': 43.653226, 'lng': -79.3831843}, 'location_type': 'APPROXIMATE', 'viewport': {'northeast': {'lat': 43.8554579, 'lng': -79.1168971}, 'southwest': {'lat': 43.5810245, 'lng': -79.639219}}}, 'partial_match': True, 'place_id': 'ChIJpTvG15DL1IkRd8S0KlBVNTI', 'types': ['locality', 'political']}], 'status': 'OK'}\n"
     ]
    }
   ],
   "source": [
    "print(response)"
   ]
  },
  {
   "cell_type": "markdown",
   "id": "8b7c1cc9",
   "metadata": {},
   "source": [
    "now the <b> distancematrix: </b>"
   ]
  },
  {
   "cell_type": "code",
   "execution_count": 171,
   "id": "e4b5fec6",
   "metadata": {},
   "outputs": [],
   "source": [
    "Serviceurl =\"https://maps.googleapis.com/maps/api/distancematrix/json?\"\n",
    "parms = dict()\n",
    "parms[\"origins\"] = \"tel aviv\"\n",
    "parms['destinations'] = \"ROME\"\n",
    "parms['key'] = key\n",
    "url = Serviceurl + urllib.parse.urlencode(parms)"
   ]
  },
  {
   "cell_type": "code",
   "execution_count": 172,
   "id": "36a7e458",
   "metadata": {},
   "outputs": [
    {
     "name": "stdout",
     "output_type": "stream",
     "text": [
      "200\n",
      "<class 'dict'>\n"
     ]
    }
   ],
   "source": [
    "response = requests.get(url)\n",
    "print(response.status_code)\n",
    "response = requests.get(url).json()\n",
    "print(type(response))"
   ]
  },
  {
   "cell_type": "code",
   "execution_count": 173,
   "id": "6a0766cf",
   "metadata": {
    "scrolled": true
   },
   "outputs": [
    {
     "name": "stdout",
     "output_type": "stream",
     "text": [
      "{'destination_addresses': ['Rome, Metropolitan City of Rome Capital, Italy'], 'origin_addresses': ['Tel Aviv-Yafo, Israel'], 'rows': [{'elements': [{'distance': {'text': '4,040 km', 'value': 4040107}, 'duration': {'text': '1 day 19 hours', 'value': 155268}, 'status': 'OK'}]}], 'status': 'OK'}\n"
     ]
    }
   ],
   "source": [
    "print(response)"
   ]
  },
  {
   "cell_type": "markdown",
   "id": "bf04ac2b",
   "metadata": {},
   "source": [
    "### The function\n",
    "Now I want to build a function that will help me get the data I need.\n",
    "\n",
    " \n"
   ]
  },
  {
   "cell_type": "markdown",
   "id": "195f6469",
   "metadata": {},
   "source": [
    "first i need two importent function, one that changes the duration to hours and second function that extract the Longitude & Latitude "
   ]
  },
  {
   "cell_type": "code",
   "execution_count": 195,
   "id": "93c25ab8",
   "metadata": {},
   "outputs": [],
   "source": [
    "def To_hours(x):\n",
    "    x = x.split()\n",
    "    if x[1] == \"day\" or x[1] == \"days\" :\n",
    "        x = int(x[0])*24 + int(x[2])\n",
    "        return str(x) + \" hours\"\n",
    "    else:\n",
    "        return ' '.join(x)"
   ]
  },
  {
   "cell_type": "code",
   "execution_count": 196,
   "id": "75b62a83",
   "metadata": {},
   "outputs": [
    {
     "data": {
      "text/plain": [
       "'43 hours'"
      ]
     },
     "execution_count": 196,
     "metadata": {},
     "output_type": "execute_result"
    }
   ],
   "source": [
    "To_hours('1 day 19 hours')"
   ]
  },
  {
   "cell_type": "code",
   "execution_count": 197,
   "id": "658b249b",
   "metadata": {},
   "outputs": [],
   "source": [
    "def dist_dur_extract (origins, target):\n",
    "    Serviceurl =\"https://maps.googleapis.com/maps/api/distancematrix/json?\"\n",
    "    parms = dict()\n",
    "    parms[\"origins\"] = origins\n",
    "    parms['destinations'] = target\n",
    "    parms['key'] = key\n",
    "    url = Serviceurl + urllib.parse.urlencode(parms)\n",
    "    responseChack = requests.get(url)\n",
    "    response = requests.get(url).json()\n",
    "    \n",
    "    if responseChack.status_code != 200:\n",
    "        return \"error in the Api:\" + responseChack.status_code \n",
    "    else:\n",
    "        dist = response[\"rows\"][0]['elements'][0]['distance']['text']\n",
    "        dur = response['rows'][0]['elements'][0]['duration']['text']\n",
    "        dur = To_hours(dur)\n",
    "        return dist , dur"
   ]
  },
  {
   "cell_type": "code",
   "execution_count": 198,
   "id": "c5c26b58",
   "metadata": {
    "scrolled": false
   },
   "outputs": [
    {
     "data": {
      "text/plain": [
       "('4,040 km', '43 hours')"
      ]
     },
     "execution_count": 198,
     "metadata": {},
     "output_type": "execute_result"
    }
   ],
   "source": [
    "dist_dur_extract(\"tel aviv\",\"rome\")"
   ]
  },
  {
   "cell_type": "code",
   "execution_count": 199,
   "id": "794e7305",
   "metadata": {},
   "outputs": [],
   "source": [
    "def get_Longitude_Latitude(target):\n",
    "    url = \"https://maps.googleapis.com/maps/api/geocode/json?address=%s&key=%s\" % (target,key)\n",
    "    response = requests.get(url)\n",
    "    if response.status_code != 200:\n",
    "        return \"error in the Api:\" + response.status_code \n",
    "    else:\n",
    "        response = requests.get(url).json()\n",
    "        latitude = response['results'][0]['geometry']['location']['lat']\n",
    "        longitude = response['results'][0]['geometry']['location']['lng']\n",
    "        return longitude, latitude "
   ]
  },
  {
   "cell_type": "code",
   "execution_count": 200,
   "id": "f7de56d5",
   "metadata": {},
   "outputs": [
    {
     "data": {
      "text/plain": [
       "(-0.1275862, 51.5072178)"
      ]
     },
     "execution_count": 200,
     "metadata": {},
     "output_type": "execute_result"
    }
   ],
   "source": [
    "get_Longitude_Latitude(\"London\")"
   ]
  },
  {
   "cell_type": "markdown",
   "id": "d3b7e2ed",
   "metadata": {},
   "source": [
    "### The dataframe\n"
   ]
  },
  {
   "cell_type": "code",
   "execution_count": 201,
   "id": "8f489941",
   "metadata": {},
   "outputs": [
    {
     "name": "stdout",
     "output_type": "stream",
     "text": [
      "<class 'dict'>\n",
      "Istanbul\n",
      "Amsterdam\n",
      "Valletta\n",
      "Basel\n",
      "Doha\n"
     ]
    }
   ],
   "source": [
    "citys = open(\"dests.txt\", \"r\")\n",
    "citys = citys.read()\n",
    "print(type(response))\n",
    "print(citys)"
   ]
  },
  {
   "cell_type": "code",
   "execution_count": 202,
   "id": "c339b842",
   "metadata": {},
   "outputs": [
    {
     "name": "stdout",
     "output_type": "stream",
     "text": [
      "['Istanbul', 'Amsterdam', 'Valletta', 'Basel', 'Doha']\n"
     ]
    }
   ],
   "source": [
    "cityList = []\n",
    "for city in citys.split():\n",
    "    cityList.append(city)\n",
    "print(cityList)"
   ]
  },
  {
   "cell_type": "code",
   "execution_count": 216,
   "id": "38d3d9de",
   "metadata": {},
   "outputs": [],
   "source": [
    "dic = {\n",
    "    \"Target\": [],\n",
    "    \"Distance_km\" :[],\n",
    "    \"Duration (hour+minutes)\": [],\n",
    "    \"Longitude\" : [],\n",
    "    \"latitude\" : []\n",
    "}\n"
   ]
  },
  {
   "cell_type": "code",
   "execution_count": 217,
   "id": "f09e07c0",
   "metadata": {},
   "outputs": [],
   "source": [
    "for city in cityList:\n",
    "    dist, dur = dist_dur_extract(\"tel aviv\", city)\n",
    "    longitude, latitude = get_Longitude_Latitude(city)\n",
    "    \n",
    "    dic[\"Target\"].append(city)\n",
    "    dic[\"Distance_km\"].append(dist)\n",
    "    dic[\"Duration (hour+minutes)\"].append(dur)\n",
    "    dic[\"Longitude\"].append(longitude)\n",
    "    dic[\"latitude\"].append(latitude)"
   ]
  },
  {
   "cell_type": "code",
   "execution_count": 218,
   "id": "1ed7ff07",
   "metadata": {
    "scrolled": true
   },
   "outputs": [
    {
     "data": {
      "text/html": [
       "<div>\n",
       "<style scoped>\n",
       "    .dataframe tbody tr th:only-of-type {\n",
       "        vertical-align: middle;\n",
       "    }\n",
       "\n",
       "    .dataframe tbody tr th {\n",
       "        vertical-align: top;\n",
       "    }\n",
       "\n",
       "    .dataframe thead th {\n",
       "        text-align: right;\n",
       "    }\n",
       "</style>\n",
       "<table border=\"1\" class=\"dataframe\">\n",
       "  <thead>\n",
       "    <tr style=\"text-align: right;\">\n",
       "      <th></th>\n",
       "      <th>Target</th>\n",
       "      <th>Distance_km</th>\n",
       "      <th>Duration (hour+minutes)</th>\n",
       "      <th>Longitude</th>\n",
       "      <th>latitude</th>\n",
       "    </tr>\n",
       "  </thead>\n",
       "  <tbody>\n",
       "    <tr>\n",
       "      <th>0</th>\n",
       "      <td>Istanbul</td>\n",
       "      <td>1,815 km</td>\n",
       "      <td>21 hours 3 mins</td>\n",
       "      <td>28.978359</td>\n",
       "      <td>41.008238</td>\n",
       "    </tr>\n",
       "    <tr>\n",
       "      <th>1</th>\n",
       "      <td>Amsterdam</td>\n",
       "      <td>4,533 km</td>\n",
       "      <td>48 hours</td>\n",
       "      <td>4.904139</td>\n",
       "      <td>52.367573</td>\n",
       "    </tr>\n",
       "    <tr>\n",
       "      <th>2</th>\n",
       "      <td>Valletta</td>\n",
       "      <td>3,793 km</td>\n",
       "      <td>51 hours</td>\n",
       "      <td>14.514100</td>\n",
       "      <td>35.899237</td>\n",
       "    </tr>\n",
       "    <tr>\n",
       "      <th>3</th>\n",
       "      <td>Basel</td>\n",
       "      <td>4,093 km</td>\n",
       "      <td>44 hours</td>\n",
       "      <td>7.588576</td>\n",
       "      <td>47.559599</td>\n",
       "    </tr>\n",
       "    <tr>\n",
       "      <th>4</th>\n",
       "      <td>Doha</td>\n",
       "      <td>2,164 km</td>\n",
       "      <td>22 hours 39 mins</td>\n",
       "      <td>51.531040</td>\n",
       "      <td>25.285447</td>\n",
       "    </tr>\n",
       "  </tbody>\n",
       "</table>\n",
       "</div>"
      ],
      "text/plain": [
       "      Target Distance_km Duration (hour+minutes)  Longitude   latitude\n",
       "0   Istanbul    1,815 km         21 hours 3 mins  28.978359  41.008238\n",
       "1  Amsterdam    4,533 km                48 hours   4.904139  52.367573\n",
       "2   Valletta    3,793 km                51 hours  14.514100  35.899237\n",
       "3      Basel    4,093 km                44 hours   7.588576  47.559599\n",
       "4       Doha    2,164 km        22 hours 39 mins  51.531040  25.285447"
      ]
     },
     "execution_count": 218,
     "metadata": {},
     "output_type": "execute_result"
    }
   ],
   "source": [
    "df = pd.DataFrame(data = dic)\n",
    "df"
   ]
  },
  {
   "cell_type": "markdown",
   "id": "a0f8c318",
   "metadata": {},
   "source": [
    "### The 3 cities furthest from Tel Aviv."
   ]
  },
  {
   "cell_type": "code",
   "execution_count": 215,
   "id": "b281d691",
   "metadata": {},
   "outputs": [
    {
     "data": {
      "text/html": [
       "<div>\n",
       "<style scoped>\n",
       "    .dataframe tbody tr th:only-of-type {\n",
       "        vertical-align: middle;\n",
       "    }\n",
       "\n",
       "    .dataframe tbody tr th {\n",
       "        vertical-align: top;\n",
       "    }\n",
       "\n",
       "    .dataframe thead th {\n",
       "        text-align: right;\n",
       "    }\n",
       "</style>\n",
       "<table border=\"1\" class=\"dataframe\">\n",
       "  <thead>\n",
       "    <tr style=\"text-align: right;\">\n",
       "      <th></th>\n",
       "      <th>Target</th>\n",
       "      <th>Distance_km</th>\n",
       "    </tr>\n",
       "  </thead>\n",
       "  <tbody>\n",
       "    <tr>\n",
       "      <th>1</th>\n",
       "      <td>Amsterdam</td>\n",
       "      <td>4,545 km</td>\n",
       "    </tr>\n",
       "    <tr>\n",
       "      <th>3</th>\n",
       "      <td>Basel</td>\n",
       "      <td>4,093 km</td>\n",
       "    </tr>\n",
       "    <tr>\n",
       "      <th>2</th>\n",
       "      <td>Valletta</td>\n",
       "      <td>3,793 km</td>\n",
       "    </tr>\n",
       "  </tbody>\n",
       "</table>\n",
       "</div>"
      ],
      "text/plain": [
       "      Target Distance_km\n",
       "1  Amsterdam    4,545 km\n",
       "3      Basel    4,093 km\n",
       "2   Valletta    3,793 km"
      ]
     },
     "execution_count": 215,
     "metadata": {},
     "output_type": "execute_result"
    }
   ],
   "source": [
    "df = df.sort_values(by='Distance_km',ascending = False)\n",
    "df[[\"Target\",\"Distance_km\"]][:3]"
   ]
  }
 ],
 "metadata": {
  "kernelspec": {
   "display_name": "Python 3 (ipykernel)",
   "language": "python",
   "name": "python3"
  },
  "language_info": {
   "codemirror_mode": {
    "name": "ipython",
    "version": 3
   },
   "file_extension": ".py",
   "mimetype": "text/x-python",
   "name": "python",
   "nbconvert_exporter": "python",
   "pygments_lexer": "ipython3",
   "version": "3.9.6"
  }
 },
 "nbformat": 4,
 "nbformat_minor": 5
}
